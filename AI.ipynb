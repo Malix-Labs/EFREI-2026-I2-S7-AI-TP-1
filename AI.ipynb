{
  "nbformat": 4,
  "nbformat_minor": 0,
  "metadata": {
    "colab": {
      "provenance": [],
      "toc_visible": true,
      "gpuType": "V28",
      "mount_file_id": "1yDrk1skEtMmM3PEcq8pEbLOJkrUZyPkN",
      "authorship_tag": "ABX9TyNyevI/oQpEcmCzMeafXOIl",
      "include_colab_link": true
    },
    "kernelspec": {
      "name": "python3",
      "display_name": "Python 3"
    },
    "language_info": {
      "name": "python"
    },
    "accelerator": "TPU"
  },
  "cells": [
    {
      "cell_type": "markdown",
      "metadata": {
        "id": "view-in-github",
        "colab_type": "text"
      },
      "source": [
        "<a href=\"https://colab.research.google.com/github/Malix-Labs/EFREI-2026-I2-S7-AI-TP-1/blob/main/AI.ipynb\" target=\"_parent\"><img src=\"https://colab.research.google.com/assets/colab-badge.svg\" alt=\"Open In Colab\"/></a>"
      ]
    },
    {
      "cell_type": "markdown",
      "source": [
        "\n",
        "## Reminder Questions"
      ],
      "metadata": {
        "id": "UJaJ1jwz5Bn2"
      }
    },
    {
      "cell_type": "markdown",
      "source": [
        "**1. Difference between Linear and Logistic Regression:**\n",
        "\n",
        "* **Linear Regression** predicts a **continuous** output variable (y) based on a linear relationship with input variables (x). For example, predicting house prices based on size, location, etc.\n",
        "* **Logistic Regression** predicts a **categorical** output variable (y), typically binary (0 or 1), by estimating the probability of belonging to a certain category. For example, predicting whether an email is spam or not.\n",
        "\n",
        "**2. Loss Function and Error Function Shape:**\n",
        "\n",
        "* **Loss Function:**  A function that measures the difference between the predicted output and the actual output. We minimize the loss function during training to improve the model's accuracy.\n",
        "* **Error Function Shape:**\n",
        "    * **Linear Regression:** Uses **Mean Squared Error (MSE)**. The shape is a parabola, with a single global minimum. The gradient descent algorithm aims to find this minimum.\n",
        "    * **Logistic Regression:** Uses **Log Loss (Binary Cross-Entropy)**. The shape is sigmoidal and convex. Like MSE, it also has a single global minimum that we try to find during training.\n",
        "\n",
        "**3. Core Algorithm:**\n",
        "\n",
        "* Both linear and logistic regression use variations of the **Gradient Descent** algorithm at their core. Gradient descent iteratively adjusts the model's parameters (weights and bias) to minimize the loss function. However, the update rules and loss functions used differ between the two methods due to the different types of output variables they predict.\n",
        "\n",
        "**4. Convergency:**\n",
        "\n",
        "* **Convergency** in both cases means that the algorithm has found a set of model parameters (weights and bias) where the loss function is minimized.  \n",
        "    * In other words, further iterations of the algorithm will not significantly improve the model's performance.\n",
        "    *  It indicates that the model has learned the relationship between the input and output variables as best as possible with the given data and chosen hyperparameters (like learning rate)."
      ],
      "metadata": {
        "id": "SNnkNING5Liw"
      }
    },
    {
      "cell_type": "markdown",
      "source": [
        "# Linear Regression"
      ],
      "metadata": {
        "id": "zq-eg0cA1LWZ"
      }
    },
    {
      "cell_type": "code",
      "source": [
        "import numpy as np\n",
        "from sklearn.model_selection import train_test_split\n",
        "from sklearn import datasets\n",
        "import matplotlib.pyplot as plt\n",
        "\n",
        "#------------ Parameters -----------#\n",
        "'''Define your hyper-parameters in this place'''\n",
        "learning_rate = 0.01\n",
        "max_iterations = 1000\n",
        "\n",
        "# --------- Functions  ---------------#\n",
        "class LinearRegression:\n",
        "\n",
        "    def __init__(self, learning_rate=learning_rate, max_iterations=max_iterations):\n",
        "        ''' Initialization of Linear Regression \"hyper-parameters\"  '''\n",
        "        self.learning_rate = learning_rate\n",
        "        self.max_iterations = max_iterations\n",
        "        self.weights = None\n",
        "        self.bias = None\n",
        "\n",
        "    def mse(self, y_true, y_pred):\n",
        "        ''' Mean Squared Error : returns a scalar value '''\n",
        "        return np.mean((y_true - y_pred)**2)\n",
        "\n",
        "    def train_GDA(self, X, y):\n",
        "        '''\n",
        "        - Training function    : GDA - Gradient Descent Algorithm\n",
        "        - Stopping criteration : Maxiterations\n",
        "        - Each feature needs to correspond to a weight\n",
        "        '''\n",
        "        n_samples, n_features = X.shape\n",
        "        self.weights = np.random.randn(n_features)\n",
        "        self.bias = 0\n",
        "\n",
        "        for _ in range(self.max_iterations):\n",
        "            y_predicted = np.dot(X, self.weights) + self.bias\n",
        "\n",
        "            # Calculate gradients\n",
        "            dw = (1 / n_samples) * np.dot(X.T, (y_predicted - y))\n",
        "            db = (1 / n_samples) * np.sum(y_predicted - y)\n",
        "\n",
        "            # Update weights and bias\n",
        "            self.weights -= self.learning_rate * dw\n",
        "            self.bias -= self.learning_rate * db\n",
        "\n",
        "        print(\"Weights = \", self.weights, \" and Bias = \", self.bias)\n",
        "\n",
        "    def predict(self, X):\n",
        "        ''' The prediction function : returns y_predicted '''\n",
        "        return np.dot(X, self.weights) + self.bias\n",
        "\n",
        "    def plot_results(self, X, y, y_pred_line, name):\n",
        "        '''\n",
        "        -plot data as scatter points\n",
        "        -plots linear regression model\n",
        "        -function only suppots 1 feature !\n",
        "        -save results in \"pdf\" format\n",
        "        '''\n",
        "        plt.figure(figsize=(8, 6))\n",
        "        plt.scatter(X, y, color='blue', label='Data Points')\n",
        "        plt.plot(X, y_pred_line, color='red', label='Regression Line')\n",
        "        plt.xlabel('X')\n",
        "        plt.ylabel('y')\n",
        "        plt.legend()\n",
        "        plt.title(f'Linear Regression - {name}')\n",
        "        plt.savefig(f'linear_regression_{name}.pdf')\n",
        "        plt.show()\n",
        "\n",
        "    def plot_loss_surface(self, X, y):\n",
        "        '''\n",
        "        -Function plots the 3D space of the loss function : weigth1 axis, weight2 axis and loss axis\n",
        "        -Plots the optimal trajectory, from random initial weights, to optimal weights\n",
        "        '''\n",
        "        # Generate a grid of weight values\n",
        "        w1 = np.linspace(-5, 5, 50)\n",
        "        w2 = np.linspace(-5, 5, 50)\n",
        "        W1, W2 = np.meshgrid(w1, w2)\n",
        "\n",
        "        # Calculate the loss for each combination of weights\n",
        "        loss_surface = np.zeros_like(W1)\n",
        "        for i in range(len(w1)):\n",
        "            for j in range(len(w2)):\n",
        "                temp_weights = np.array([W1[i, j], W2[i, j]])\n",
        "                loss_surface[i, j] = self.mse(y, np.dot(X, temp_weights) + self.bias)\n",
        "\n",
        "        # Plot the loss surface\n",
        "        fig = plt.figure(figsize=(10, 8))\n",
        "        ax = fig.add_subplot(111, projection='3d')\n",
        "        ax.plot_surface(W1, W2, loss_surface, cmap='viridis', alpha=0.8)\n",
        "\n",
        "        # Plot the trajectory of the weights during gradient descent\n",
        "        w1_path = [self.weights[0]]\n",
        "        w2_path = [self.weights[1]]\n",
        "        for _ in range(self.max_iterations):\n",
        "            self.train_GDA(X, y)\n",
        "            w1_path.append(self.weights[0])\n",
        "            w2_path.append(self.weights[1])\n",
        "        ax.plot(w1_path, w2_path, self.mse(y, np.dot(X, self.weights) + self.bias), color='red', marker='o', markersize=5)\n",
        "\n",
        "        ax.set_xlabel('Weight 1')\n",
        "        ax.set_ylabel('Weight 2')\n",
        "        ax.set_zlabel('Loss')\n",
        "        plt.title('Loss Surface and Gradient Descent Trajectory')\n",
        "        plt.show()\n",
        "\n",
        "\n",
        "# --------- Testing ---------------#\n",
        "if __name__ == \"__main__\":\n",
        "    '''\n",
        "    -You need to call all your function in here.\n",
        "    -To code your model, you only need \"numpy\" !\n",
        "    -Scklearn is only used to import dataSets  !\n",
        "\n",
        "    1) Import your data set (from scklearn) with \"make_regression\" function\n",
        "    2) Pre_process them if needed\n",
        "    3) Train your model\n",
        "    4) Teste your model and display the mean squared error\n",
        "    5) Plot the regression line\n",
        "    - Repeat the five steps on different parameters of your dataset, on different hyper-parameters.\n",
        "    - Compare Results\n",
        "    6) Plot optimal trajctory of GDA algorithm in loss landscape space\n",
        "    '''\n",
        "    X, y = datasets.make_regression(n_samples=100, n_features=1, noise=20, random_state=42)\n",
        "\n",
        "    # Data Preprocessing (if needed)\n",
        "    # X = (X - np.mean(X)) / np.std(X) # Standardize data\n",
        "\n",
        "    # Split the data\n",
        "    X_train, X_test, y_train, y_test = train_test_split(X, y, test_size=0.2, random_state=42)\n",
        "\n",
        "    # Create and train the model\n",
        "    model = LinearRegression(learning_rate=0.01, max_iterations=1000)\n",
        "    model.train_GDA(X_train, y_train)\n",
        "\n",
        "    # Make predictions\n",
        "    y_pred = model.predict(X_test)\n",
        "\n",
        "    # Evaluate the model\n",
        "    mse_value = model.mse(y_test, y_pred)\n",
        "    print(f\"Mean Squared Error: {mse_value}\")\n",
        "\n",
        "    # Plot the results\n",
        "    y_pred_line = model.predict(X)  # Predict for the whole dataset to plot the line\n",
        "    model.plot_results(X, y, y_pred_line, 'regression_results')\n",
        "\n",
        "    # Plot loss surface (for 2D weights only)\n",
        "    if len(model.weights) == 2:\n",
        "        model.plot_loss_surface(X_train, y_train)"
      ],
      "metadata": {
        "colab": {
          "base_uri": "https://localhost:8080/",
          "height": 600
        },
        "id": "0LRi5lbJ2umG",
        "outputId": "1a08c2bb-daf5-4b4d-d2ab-f54607fb42db"
      },
      "execution_count": 5,
      "outputs": [
        {
          "output_type": "stream",
          "name": "stdout",
          "text": [
            "Weights =  [46.72939946]  and Bias =  0.1892620467435296\n",
            "Mean Squared Error: 417.0188090087531\n"
          ]
        },
        {
          "output_type": "display_data",
          "data": {
            "text/plain": [
              "<Figure size 800x600 with 1 Axes>"
            ],
            "image/png": "[encoded data removed]"
          },
          "metadata": {}
        }
      ]
    },
    {
      "cell_type": "markdown",
      "source": [
        "# Logistic Regression"
      ],
      "metadata": {
        "id": "fHtNRmtv1Jmn"
      }
    },
    {
      "cell_type": "code",
      "source": [
        "import numpy as np\n",
        "from sklearn.model_selection import train_test_split\n",
        "from sklearn import datasets\n",
        "import matplotlib.pyplot as plt\n",
        "\n",
        "#------------ Parameters -----------#\n",
        "'''Define your hyper-parameters in this place'''\n",
        "\n",
        "# --------- Functions  ---------------#\n",
        "class LinearRegression:\n",
        "\n",
        "    def __init__(self):\n",
        "        ''' Initialization of Linear Regression \"hyper-parameters\"  '''\n",
        "\n",
        "    def sigmoid(self,z):\n",
        "        '''sigmoid activation function : returns a real number'''\n",
        "\n",
        "    def train_GDA(self,X, y):\n",
        "        '''\n",
        "        - Training function    : GDA - Gradient Descent Algorithm\n",
        "        - Stopping criteration : Maxiterations\n",
        "        - Each feature needs to correspond to a weight\n",
        "        '''\n",
        "\n",
        "        print(\"Weights = \",self.weights,\" and Bias = \",self.bias)\n",
        "\n",
        "    def accuracy(self,y_true, y_pred):\n",
        "        '''Accuracy function : y' vs y : returns % accuracy '''\n",
        "\n",
        "    def predict(self,X):\n",
        "        '''\n",
        "        - The prdiction function : returns y_predicted\n",
        "        - Applying a threshold of 0.5\n",
        "        '''\n",
        "\n",
        "    def plot_results(self, y_target, y_pred, accuracy, name):\n",
        "        '''\n",
        "        -plot a barplot for y_target\n",
        "        -plot a barplot for y_pred\n",
        "        -show accuracy of the model in title\n",
        "        -save results in \"pdf\" format\n",
        "        '''\n",
        "\n",
        "# --------- Testing ---------------#\n",
        "if __name__ == \"__main__\":\n",
        "\n",
        "    '''\n",
        "    -You need to call all your function in here.\n",
        "    -To code your model, you only need \"numpy\" !\n",
        "    -Scklearn is only used to import dataSets  !\n",
        "\n",
        "    1) Import your data set (from scklearn) with \"make_regression\" function\n",
        "    2) Pre_process them if needed\n",
        "    3) Train your model\n",
        "    4) Teste your model and display the mean squared error\n",
        "    5) Plot results\n",
        "    - Repeat the five steps on different parameters of your dataset, on different hyper-parameters.\n",
        "    - Compare Results\n",
        "    '''"
      ],
      "metadata": {
        "id": "wUaeTfXk22DA"
      },
      "execution_count": null,
      "outputs": []
    }
  ]
}