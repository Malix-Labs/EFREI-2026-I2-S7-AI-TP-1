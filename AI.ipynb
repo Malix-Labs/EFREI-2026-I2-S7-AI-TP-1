{
  "nbformat": 4,
  "nbformat_minor": 0,
  "metadata": {
    "colab": {
      "provenance": [],
      "gpuType": "V28",
      "mount_file_id": "1yDrk1skEtMmM3PEcq8pEbLOJkrUZyPkN",
      "authorship_tag": "ABX9TyMwEUnJPMvgSY85Jzm8GkQ5",
      "include_colab_link": true
    },
    "kernelspec": {
      "name": "python3",
      "display_name": "Python 3"
    },
    "language_info": {
      "name": "python"
    },
    "accelerator": "TPU"
  },
  "cells": [
    {
      "cell_type": "markdown",
      "metadata": {
        "id": "view-in-github",
        "colab_type": "text"
      },
      "source": [
        "<a href=\"https://colab.research.google.com/github/Malix-Labs/EFREI-2026-I2-S7-AI-TP-1/blob/main/AI.ipynb\" target=\"_parent\"><img src=\"https://colab.research.google.com/assets/colab-badge.svg\" alt=\"Open In Colab\"/></a>"
      ]
    },
    {
      "cell_type": "code",
      "source": [],
      "metadata": {
        "id": "8rSJuBMbzLDQ"
      },
      "execution_count": null,
      "outputs": []
    }
  ]
}